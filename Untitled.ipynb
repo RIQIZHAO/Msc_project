{
 "cells": [
  {
   "cell_type": "code",
   "execution_count": 1,
   "id": "96f824fd",
   "metadata": {},
   "outputs": [
    {
     "data": {
      "text/plain": [
       "5"
      ]
     },
     "execution_count": 1,
     "metadata": {},
     "output_type": "execute_result"
    }
   ],
   "source": [
    "a=2\n",
    "b=3\n",
    "exec(\"answer=a+b\")\n",
    "answer"
   ]
  },
  {
   "cell_type": "code",
   "execution_count": 2,
   "id": "edddf644",
   "metadata": {},
   "outputs": [],
   "source": [
    "a=2\n",
    "b=3\n",
    "exec(\"answer=a+b\")"
   ]
  },
  {
   "cell_type": "code",
   "execution_count": 4,
   "id": "8b369ed0",
   "metadata": {},
   "outputs": [
    {
     "data": {
      "text/plain": [
       "5"
      ]
     },
     "execution_count": 4,
     "metadata": {},
     "output_type": "execute_result"
    }
   ],
   "source": [
    "a=2\n",
    "b=3\n",
    "answer=a+b\n",
    "answer\n"
   ]
  },
  {
   "cell_type": "code",
   "execution_count": 5,
   "id": "77aa274a",
   "metadata": {},
   "outputs": [
    {
     "data": {
      "text/plain": [
       "5"
      ]
     },
     "execution_count": 5,
     "metadata": {},
     "output_type": "execute_result"
    }
   ],
   "source": [
    "eval(\"1+4\")"
   ]
  },
  {
   "cell_type": "code",
   "execution_count": 6,
   "id": "77031931",
   "metadata": {},
   "outputs": [
    {
     "data": {
      "text/plain": [
       "int"
      ]
     },
     "execution_count": 6,
     "metadata": {},
     "output_type": "execute_result"
    }
   ],
   "source": [
    "type(eval(\"1+4\"))"
   ]
  },
  {
   "cell_type": "code",
   "execution_count": null,
   "id": "f4976b2f",
   "metadata": {},
   "outputs": [],
   "source": []
  }
 ],
 "metadata": {
  "kernelspec": {
   "display_name": "Python 3",
   "language": "python",
   "name": "python3"
  },
  "language_info": {
   "codemirror_mode": {
    "name": "ipython",
    "version": 3
   },
   "file_extension": ".py",
   "mimetype": "text/x-python",
   "name": "python",
   "nbconvert_exporter": "python",
   "pygments_lexer": "ipython3",
   "version": "3.8.8"
  }
 },
 "nbformat": 4,
 "nbformat_minor": 5
}
